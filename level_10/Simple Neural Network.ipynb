{
 "cells": [
  {
   "cell_type": "code",
   "execution_count": 1,
   "metadata": {
    "collapsed": false
   },
   "outputs": [],
   "source": [
    "%load_ext autoreload\n",
    "%autoreload 2"
   ]
  },
  {
   "cell_type": "code",
   "execution_count": null,
   "metadata": {
    "collapsed": false
   },
   "outputs": [],
   "source": []
  },
  {
   "cell_type": "code",
   "execution_count": null,
   "metadata": {
    "collapsed": false
   },
   "outputs": [],
   "source": []
  },
  {
   "cell_type": "code",
   "execution_count": null,
   "metadata": {
    "collapsed": false
   },
   "outputs": [],
   "source": []
  },
  {
   "cell_type": "code",
   "execution_count": null,
   "metadata": {
    "collapsed": false
   },
   "outputs": [],
   "source": []
  },
  {
   "cell_type": "code",
   "execution_count": 12,
   "metadata": {
    "collapsed": false
   },
   "outputs": [],
   "source": [
    "import numpy as np\n",
    "import activation as F\n",
    "import nn\n",
    "\n",
    "from autograd import grad\n",
    "\n",
    "import sklearn\n",
    "import sklearn.datasets \n",
    "\n",
    "x, y = sklearn.datasets.make_moons(200, noise=0.20) \n",
    "\n",
    "n_input = 2\n",
    "n_hidden = 3\n",
    "n_output = 2\n",
    "reg_lambda = 0.01\n",
    "learning_rate = 0.01\n",
    "num_examples = len(x)\n",
    "\n",
    "def train(model, x, y):\n",
    "    # Forward pass: compute predicted y by passing x to the model. Module objects\n",
    "    # override the __call__ operator so you can call them like functions. When\n",
    "    # doing so you pass a Variable of input data to the Module and it produces\n",
    "    # a Variable of output data.\n",
    "    z1 = model[0].forward(x)\n",
    "    a1 = model[1].forward(z1)\n",
    "    z2 = model[2].forward(a1)\n",
    "    probs = model[3].forward(z2)\n",
    "\n",
    "    # Compute and print loss. We pass Variables containing the predicted and true\n",
    "    # values of y, and the loss function returns a Variable containing the loss.\n",
    "    # loss = loss_fn(y_pred, y)\n",
    "    delta3 = probs\n",
    "    delta3[range(num_examples), y] -= 1\n",
    "    \n",
    "    # Backward pass: compute gradient of the loss with respect to all the learnable\n",
    "    # parameters of the model. Internally, the parameters of each Module are stored\n",
    "    # in Variables with requires_grad=True, so this call will compute gradients for\n",
    "    # all learnable parameters in the model.\n",
    "    dW2 = (a1.T).dot(delta3)\n",
    "    db2 = np.sum(delta3, axis=0, keepdims=True)\n",
    "    delta2 = delta3.dot(model[2].weights.T) * (1 - np.power(a1, 2))\n",
    "    dW1 = (x.T).dot(delta2)\n",
    "    db1 = np.sum(delta2, axis=0)\n",
    "\n",
    "    # Update the weights using gradient descent. Each parameter is a Variable, so\n",
    "    # we can access its data and gradients like we did before.\n",
    "    dW1 += reg_lambda * model[0].weights\n",
    "    dW2 += reg_lambda * model[2].weights\n",
    "\n",
    "    # Gradient descent parameter update\n",
    "    model[0].weights -= learning_rate * dW1\n",
    "    model[0].bias -= learning_rate * db1\n",
    "    model[2].weights -= learning_rate * dW2\n",
    "    model[2].bias -= learning_rate * db2\n",
    "\n",
    "    \n",
    "# Instantiate\n",
    "model = nn.Sequential(\n",
    "    nn.Linear.random(n_input, n_hidden),\n",
    "    F.Tanh(),\n",
    "    nn.Linear.random(n_hidden, n_output),\n",
    "    F.Softmax(),\n",
    ")\n",
    "\n",
    "for t in range(1):\n",
    "    train(model, x, y)"
   ]
  },
  {
   "cell_type": "code",
   "execution_count": null,
   "metadata": {
    "collapsed": false
   },
   "outputs": [],
   "source": []
  },
  {
   "cell_type": "code",
   "execution_count": null,
   "metadata": {
    "collapsed": false
   },
   "outputs": [],
   "source": []
  },
  {
   "cell_type": "code",
   "execution_count": null,
   "metadata": {
    "collapsed": false
   },
   "outputs": [],
   "source": []
  },
  {
   "cell_type": "code",
   "execution_count": null,
   "metadata": {
    "collapsed": false
   },
   "outputs": [],
   "source": []
  },
  {
   "cell_type": "code",
   "execution_count": null,
   "metadata": {
    "collapsed": true
   },
   "outputs": [],
   "source": []
  }
 ],
 "metadata": {
  "kernelspec": {
   "display_name": "Python 3",
   "language": "python",
   "name": "python3"
  },
  "language_info": {
   "codemirror_mode": {
    "name": "ipython",
    "version": 3
   },
   "file_extension": ".py",
   "mimetype": "text/x-python",
   "name": "python",
   "nbconvert_exporter": "python",
   "pygments_lexer": "ipython3",
   "version": "3.5.2"
  }
 },
 "nbformat": 4,
 "nbformat_minor": 2
}
